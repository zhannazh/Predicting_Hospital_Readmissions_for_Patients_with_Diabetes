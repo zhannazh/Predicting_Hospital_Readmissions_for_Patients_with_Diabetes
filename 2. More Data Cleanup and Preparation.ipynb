{
 "cells": [
  {
   "cell_type": "markdown",
   "metadata": {},
   "source": [
    "June 2018"
   ]
  },
  {
   "cell_type": "markdown",
   "metadata": {},
   "source": [
    "Jupiter Notebook 5.5.0 (Python 3.5.5, Pandas 0.23.0, scikit-learn 0.19.1)"
   ]
  },
  {
   "cell_type": "markdown",
   "metadata": {},
   "source": [
    "IPython Book #2 of 3"
   ]
  },
  {
   "cell_type": "markdown",
   "metadata": {},
   "source": [
    "The goal of this exercise is to build a predictive model to determine which encounters will be followed by the patient being readmitted to the hospital within 30 days. "
   ]
  },
  {
   "cell_type": "code",
   "execution_count": 1,
   "metadata": {},
   "outputs": [],
   "source": [
    "# Load useful packages\n",
    "import pandas as pd\n",
    "import numpy as np\n",
    "import matplotlib.pyplot as plt\n",
    "%matplotlib inline\n"
   ]
  },
  {
   "cell_type": "code",
   "execution_count": 2,
   "metadata": {},
   "outputs": [],
   "source": [
    "# Set the directory\n",
    "# directory = [[ENTER DIRECTORY PATH]]\n"
   ]
  },
  {
   "cell_type": "code",
   "execution_count": 3,
   "metadata": {},
   "outputs": [],
   "source": [
    "# Load the saved 'result' dataset (deduped, created in IPython Notebook #1)\n",
    "import pickle\n",
    "result = pd.read_pickle(\"result.pickle\" )\n"
   ]
  },
  {
   "cell_type": "markdown",
   "metadata": {},
   "source": [
    "# More data cleaning - missing values and dominant values"
   ]
  },
  {
   "cell_type": "markdown",
   "metadata": {},
   "source": [
    "Note that variables admission_type_id, discharge_disposition_id, and admission_source_id show up as numeric variables but are in fact categorical. Make them strings so that Python recognizes them as categorical variables."
   ]
  },
  {
   "cell_type": "code",
   "execution_count": 4,
   "metadata": {},
   "outputs": [],
   "source": [
    "for i in ['admission_type_id', 'discharge_disposition_id', 'admission_source_id']:\n",
    "    result[i] = result[i].apply(str)\n"
   ]
  },
  {
   "cell_type": "markdown",
   "metadata": {
    "collapsed": true
   },
   "source": [
    "Next, I examine numeric and categorical variables for missing values and exclude any variables that are dominated by a single value (>=95% of values)."
   ]
  },
  {
   "cell_type": "code",
   "execution_count": 5,
   "metadata": {},
   "outputs": [
    {
     "data": {
      "text/plain": [
       "Index(['encounter_id', 'patient_nbr', 'time_in_hospital', 'num_lab_procedures',\n",
       "       'num_procedures', 'num_medications', 'number_outpatient',\n",
       "       'number_emergency', 'number_inpatient', 'number_diagnoses', 'target'],\n",
       "      dtype='object')"
      ]
     },
     "execution_count": 5,
     "metadata": {},
     "output_type": "execute_result"
    }
   ],
   "source": [
    "# Numeric variables\n",
    "cols_numeric = result.describe(include = [np.number]).columns\n",
    "cols_numeric"
   ]
  },
  {
   "cell_type": "code",
   "execution_count": 6,
   "metadata": {},
   "outputs": [
    {
     "name": "stdout",
     "output_type": "stream",
     "text": [
      "time_in_hospital      False      0\n",
      "num_lab_procedures      False      0\n",
      "num_procedures      False      0\n",
      "num_medications      False      0\n",
      "number_outpatient      False      0\n",
      "number_emergency      False      0\n",
      "number_inpatient      False      0\n",
      "number_diagnoses      False      0\n",
      "target      False      0\n"
     ]
    }
   ],
   "source": [
    "# Check if numeric variables have any missing values \n",
    "# Note, technically all missing values should be coded as '?' so missing vals would only apply to categorical variables\n",
    "for i in cols_numeric[2:]:\n",
    "    print(i, \"    \" ,result[i].isnull().values.any(),  \"    \", result[i].isnull().values.sum())\n",
    "    "
   ]
  },
  {
   "cell_type": "markdown",
   "metadata": {},
   "source": [
    "Numeric variables have no missing values."
   ]
  },
  {
   "cell_type": "code",
   "execution_count": 7,
   "metadata": {},
   "outputs": [
    {
     "data": {
      "text/plain": [
       "Index(['race', 'gender', 'age', 'weight', 'admission_type_id',\n",
       "       'discharge_disposition_id', 'admission_source_id', 'payer_code',\n",
       "       'medical_specialty', 'diag_1', 'diag_2', 'diag_3', 'max_glu_serum',\n",
       "       'A1Cresult', 'metformin', 'repaglinide', 'nateglinide',\n",
       "       'chlorpropamide', 'glimepiride', 'acetohexamide', 'glipizide',\n",
       "       'glyburide', 'tolbutamide', 'pioglitazone', 'rosiglitazone', 'acarbose',\n",
       "       'miglitol', 'troglitazone', 'tolazamide', 'examide', 'citoglipton',\n",
       "       'insulin', 'glyburide-metformin', 'glipizide-metformin',\n",
       "       'glimepiride-pioglitazone', 'metformin-rosiglitazone',\n",
       "       'metformin-pioglitazone', 'change', 'diabetesMed', 'readmitted'],\n",
       "      dtype='object')"
      ]
     },
     "execution_count": 7,
     "metadata": {},
     "output_type": "execute_result"
    }
   ],
   "source": [
    "# Categorical variables\n",
    "cols_categorical = result.describe(exclude = [np.number]).columns\n",
    "cols_categorical\n"
   ]
  },
  {
   "cell_type": "code",
   "execution_count": 8,
   "metadata": {},
   "outputs": [
    {
     "name": "stdout",
     "output_type": "stream",
     "text": [
      "race      0.03\n",
      "gender ---- NO MISSING\n",
      "age ---- NO MISSING\n",
      "weight      0.96\n",
      "admission_type_id ---- NO MISSING\n",
      "discharge_disposition_id ---- NO MISSING\n",
      "admission_source_id ---- NO MISSING\n",
      "payer_code      0.42\n",
      "medical_specialty      0.47\n",
      "diag_1      0.00\n",
      "diag_2      0.00\n",
      "diag_3      0.02\n",
      "max_glu_serum ---- NO MISSING\n",
      "A1Cresult ---- NO MISSING\n",
      "metformin ---- NO MISSING\n",
      "repaglinide ---- NO MISSING\n",
      "nateglinide ---- NO MISSING\n",
      "chlorpropamide ---- NO MISSING\n",
      "glimepiride ---- NO MISSING\n",
      "acetohexamide ---- NO MISSING\n",
      "glipizide ---- NO MISSING\n",
      "glyburide ---- NO MISSING\n",
      "tolbutamide ---- NO MISSING\n",
      "pioglitazone ---- NO MISSING\n",
      "rosiglitazone ---- NO MISSING\n",
      "acarbose ---- NO MISSING\n",
      "miglitol ---- NO MISSING\n",
      "troglitazone ---- NO MISSING\n",
      "tolazamide ---- NO MISSING\n",
      "examide ---- NO MISSING\n",
      "citoglipton ---- NO MISSING\n",
      "insulin ---- NO MISSING\n",
      "glyburide-metformin ---- NO MISSING\n",
      "glipizide-metformin ---- NO MISSING\n",
      "glimepiride-pioglitazone ---- NO MISSING\n",
      "metformin-rosiglitazone ---- NO MISSING\n",
      "metformin-pioglitazone ---- NO MISSING\n",
      "change ---- NO MISSING\n",
      "diabetesMed ---- NO MISSING\n",
      "readmitted ---- NO MISSING\n"
     ]
    }
   ],
   "source": [
    "# Check if categorical variables have any missing values \n",
    "for i in cols_categorical:\n",
    "    try:\n",
    "        \n",
    "        var = result[i].value_counts()/result[i].value_counts().sum()\n",
    "        print(i, \"    \", format(var['?'], '.2f'))\n",
    "    except:\n",
    "        print(i, \"---- NO MISSING\")\n"
   ]
  },
  {
   "cell_type": "markdown",
   "metadata": {},
   "source": [
    "96% of weight values are missing. So I drop the 'weight' variable."
   ]
  },
  {
   "cell_type": "code",
   "execution_count": 9,
   "metadata": {},
   "outputs": [],
   "source": [
    "# Drop the weight variable and re-define cols_categorical\n",
    "result = result.drop(['weight'], axis=1) \n",
    "cols_categorical = result.describe(exclude = [np.number]).columns\n"
   ]
  },
  {
   "cell_type": "markdown",
   "metadata": {},
   "source": [
    "Next, I check if any categorical variables are dominated by a single value (>=95% of values). It turns out there are 17 such categorical variables so I drop them."
   ]
  },
  {
   "cell_type": "code",
   "execution_count": 10,
   "metadata": {},
   "outputs": [
    {
     "name": "stdout",
     "output_type": "stream",
     "text": [
      "max_glu_serum --- 0.952\n",
      "repaglinide --- 0.987\n",
      "nateglinide --- 0.993\n",
      "chlorpropamide --- 0.999\n",
      "acetohexamide --- 1.000\n",
      "tolbutamide --- 1.000\n",
      "acarbose --- 0.997\n",
      "miglitol --- 1.000\n",
      "troglitazone --- 1.000\n",
      "tolazamide --- 1.000\n",
      "examide --- 1.000\n",
      "citoglipton --- 1.000\n",
      "glyburide-metformin --- 0.993\n",
      "glipizide-metformin --- 1.000\n",
      "glimepiride-pioglitazone --- 1.000\n",
      "metformin-rosiglitazone --- 1.000\n",
      "metformin-pioglitazone --- 1.000\n",
      "['max_glu_serum', 'repaglinide', 'nateglinide', 'chlorpropamide', 'acetohexamide', 'tolbutamide', 'acarbose', 'miglitol', 'troglitazone', 'tolazamide', 'examide', 'citoglipton', 'glyburide-metformin', 'glipizide-metformin', 'glimepiride-pioglitazone', 'metformin-rosiglitazone', 'metformin-pioglitazone']\n",
      "17\n"
     ]
    }
   ],
   "source": [
    "#Check which categorical variables have dominant values as defined above\n",
    "drop_columns_categorical = []\n",
    "for i in cols_categorical:\n",
    "    top_percent = result[i].value_counts()[0]/result[i].value_counts().sum()\n",
    "    if top_percent >= 0.95:\n",
    "        print(i, \"---\", format(top_percent,'.3f'))\n",
    "        drop_columns_categorical.append(i)\n",
    "print(drop_columns_categorical)\n",
    "print(len(drop_columns_categorical))"
   ]
  },
  {
   "cell_type": "code",
   "execution_count": 11,
   "metadata": {},
   "outputs": [],
   "source": [
    "# Drop 17 categorical variables with dominant values\n",
    "result = result.drop(drop_columns_categorical, axis=1)"
   ]
  },
  {
   "cell_type": "code",
   "execution_count": 12,
   "metadata": {},
   "outputs": [],
   "source": [
    "#re-define cols_categorical\n",
    "cols_categorical = result.describe(exclude = [np.number]).columns\n"
   ]
  },
  {
   "cell_type": "markdown",
   "metadata": {},
   "source": [
    "For numeric (continuous) variables, it is less likely that a single value will be present in 95% or more observations, unless there are lots of missing values or values like 0. The quickest way to examine numeric variables is to plot their histograms. "
   ]
  },
  {
   "cell_type": "code",
   "execution_count": 13,
   "metadata": {},
   "outputs": [
    {
     "data": {
      "text/plain": [
       "Index(['encounter_id', 'patient_nbr', 'time_in_hospital', 'num_lab_procedures',\n",
       "       'num_procedures', 'num_medications', 'number_outpatient',\n",
       "       'number_emergency', 'number_inpatient', 'number_diagnoses', 'target'],\n",
       "      dtype='object')"
      ]
     },
     "execution_count": 13,
     "metadata": {},
     "output_type": "execute_result"
    }
   ],
   "source": [
    "# List numeric variable names\n",
    "cols_numeric"
   ]
  },
  {
   "cell_type": "code",
   "execution_count": 14,
   "metadata": {},
   "outputs": [
    {
     "data": {
      "image/png": "[encoded data removed]",
      "text/plain": [
       "<Figure size 432x288 with 1 Axes>"
      ]
     },
     "metadata": {},
     "output_type": "display_data"
    },
    {
     "data": {
      "image/png": "[encoded data removed]",
      "text/plain": [
       "<Figure size 432x288 with 1 Axes>"
      ]
     },
     "metadata": {},
     "output_type": "display_data"
    },
    {
     "data": {
      "image/png": "[encoded data removed]",
      "text/plain": [
       "<Figure size 432x288 with 1 Axes>"
      ]
     },
     "metadata": {},
     "output_type": "display_data"
    },
    {
     "data": {
      "image/png": "[encoded data removed]",
      "text/plain": [
       "<Figure size 432x288 with 1 Axes>"
      ]
     },
     "metadata": {},
     "output_type": "display_data"
    },
    {
     "data": {
      "image/png": "[encoded data removed]",
      "text/plain": [
       "<Figure size 432x288 with 1 Axes>"
      ]
     },
     "metadata": {},
     "output_type": "display_data"
    },
    {
     "data": {
      "image/png": "[encoded data removed]",
      "text/plain": [
       "<Figure size 432x288 with 1 Axes>"
      ]
     },
     "metadata": {},
     "output_type": "display_data"
    },
    {
     "data": {
      "image/png": "[encoded data removed]",
      "text/plain": [
       "<Figure size 432x288 with 1 Axes>"
      ]
     },
     "metadata": {},
     "output_type": "display_data"
    },
    {
     "data": {
      "image/png": "[encoded data removed]",
      "text/plain": [
       "<Figure size 432x288 with 1 Axes>"
      ]
     },
     "metadata": {},
     "output_type": "display_data"
    },
    {
     "data": {
      "image/png": "[encoded data removed]",
      "text/plain": [
       "<Figure size 432x288 with 1 Axes>"
      ]
     },
     "metadata": {},
     "output_type": "display_data"
    }
   ],
   "source": [
    "#Plot histograms for numeric variables (quickest way)\n",
    "for i in cols_numeric[2:]:\n",
    "    plt.hist(result[i], bins='auto')\n",
    "    plt.title('%s' % i)\n",
    "    plt.show()\n",
    "\n"
   ]
  },
  {
   "cell_type": "code",
   "execution_count": 15,
   "metadata": {},
   "outputs": [
    {
     "data": {
      "text/html": [
       "<div>\n",
       "<style scoped>\n",
       "    .dataframe tbody tr th:only-of-type {\n",
       "        vertical-align: middle;\n",
       "    }\n",
       "\n",
       "    .dataframe tbody tr th {\n",
       "        vertical-align: top;\n",
       "    }\n",
       "\n",
       "    .dataframe thead th {\n",
       "        text-align: right;\n",
       "    }\n",
       "</style>\n",
       "<table border=\"1\" class=\"dataframe\">\n",
       "  <thead>\n",
       "    <tr style=\"text-align: right;\">\n",
       "      <th></th>\n",
       "      <th>count</th>\n",
       "      <th>mean</th>\n",
       "      <th>std</th>\n",
       "      <th>min</th>\n",
       "      <th>25%</th>\n",
       "      <th>50%</th>\n",
       "      <th>75%</th>\n",
       "      <th>max</th>\n",
       "    </tr>\n",
       "  </thead>\n",
       "  <tbody>\n",
       "    <tr>\n",
       "      <th>time_in_hospital</th>\n",
       "      <td>69990.0</td>\n",
       "      <td>4.279140</td>\n",
       "      <td>2.939000</td>\n",
       "      <td>1.0</td>\n",
       "      <td>2.0</td>\n",
       "      <td>3.0</td>\n",
       "      <td>6.0</td>\n",
       "      <td>14.0</td>\n",
       "    </tr>\n",
       "    <tr>\n",
       "      <th>num_lab_procedures</th>\n",
       "      <td>69990.0</td>\n",
       "      <td>43.007544</td>\n",
       "      <td>19.861828</td>\n",
       "      <td>1.0</td>\n",
       "      <td>31.0</td>\n",
       "      <td>44.0</td>\n",
       "      <td>57.0</td>\n",
       "      <td>132.0</td>\n",
       "    </tr>\n",
       "    <tr>\n",
       "      <th>num_procedures</th>\n",
       "      <td>69990.0</td>\n",
       "      <td>1.419789</td>\n",
       "      <td>1.749387</td>\n",
       "      <td>0.0</td>\n",
       "      <td>0.0</td>\n",
       "      <td>1.0</td>\n",
       "      <td>2.0</td>\n",
       "      <td>6.0</td>\n",
       "    </tr>\n",
       "    <tr>\n",
       "      <th>num_medications</th>\n",
       "      <td>69990.0</td>\n",
       "      <td>15.788227</td>\n",
       "      <td>8.306849</td>\n",
       "      <td>1.0</td>\n",
       "      <td>10.0</td>\n",
       "      <td>14.0</td>\n",
       "      <td>20.0</td>\n",
       "      <td>81.0</td>\n",
       "    </tr>\n",
       "    <tr>\n",
       "      <th>number_outpatient</th>\n",
       "      <td>69990.0</td>\n",
       "      <td>0.308015</td>\n",
       "      <td>1.132342</td>\n",
       "      <td>0.0</td>\n",
       "      <td>0.0</td>\n",
       "      <td>0.0</td>\n",
       "      <td>0.0</td>\n",
       "      <td>40.0</td>\n",
       "    </tr>\n",
       "    <tr>\n",
       "      <th>number_emergency</th>\n",
       "      <td>69990.0</td>\n",
       "      <td>0.125547</td>\n",
       "      <td>0.635568</td>\n",
       "      <td>0.0</td>\n",
       "      <td>0.0</td>\n",
       "      <td>0.0</td>\n",
       "      <td>0.0</td>\n",
       "      <td>64.0</td>\n",
       "    </tr>\n",
       "    <tr>\n",
       "      <th>number_inpatient</th>\n",
       "      <td>69990.0</td>\n",
       "      <td>0.302386</td>\n",
       "      <td>0.787538</td>\n",
       "      <td>0.0</td>\n",
       "      <td>0.0</td>\n",
       "      <td>0.0</td>\n",
       "      <td>0.0</td>\n",
       "      <td>15.0</td>\n",
       "    </tr>\n",
       "    <tr>\n",
       "      <th>number_diagnoses</th>\n",
       "      <td>69990.0</td>\n",
       "      <td>7.275582</td>\n",
       "      <td>1.984151</td>\n",
       "      <td>1.0</td>\n",
       "      <td>6.0</td>\n",
       "      <td>8.0</td>\n",
       "      <td>9.0</td>\n",
       "      <td>16.0</td>\n",
       "    </tr>\n",
       "    <tr>\n",
       "      <th>target</th>\n",
       "      <td>69990.0</td>\n",
       "      <td>0.125804</td>\n",
       "      <td>0.331630</td>\n",
       "      <td>0.0</td>\n",
       "      <td>0.0</td>\n",
       "      <td>0.0</td>\n",
       "      <td>0.0</td>\n",
       "      <td>1.0</td>\n",
       "    </tr>\n",
       "  </tbody>\n",
       "</table>\n",
       "</div>"
      ],
      "text/plain": [
       "                      count       mean        std  min   25%   50%   75%  \\\n",
       "time_in_hospital    69990.0   4.279140   2.939000  1.0   2.0   3.0   6.0   \n",
       "num_lab_procedures  69990.0  43.007544  19.861828  1.0  31.0  44.0  57.0   \n",
       "num_procedures      69990.0   1.419789   1.749387  0.0   0.0   1.0   2.0   \n",
       "num_medications     69990.0  15.788227   8.306849  1.0  10.0  14.0  20.0   \n",
       "number_outpatient   69990.0   0.308015   1.132342  0.0   0.0   0.0   0.0   \n",
       "number_emergency    69990.0   0.125547   0.635568  0.0   0.0   0.0   0.0   \n",
       "number_inpatient    69990.0   0.302386   0.787538  0.0   0.0   0.0   0.0   \n",
       "number_diagnoses    69990.0   7.275582   1.984151  1.0   6.0   8.0   9.0   \n",
       "target              69990.0   0.125804   0.331630  0.0   0.0   0.0   0.0   \n",
       "\n",
       "                      max  \n",
       "time_in_hospital     14.0  \n",
       "num_lab_procedures  132.0  \n",
       "num_procedures        6.0  \n",
       "num_medications      81.0  \n",
       "number_outpatient    40.0  \n",
       "number_emergency     64.0  \n",
       "number_inpatient     15.0  \n",
       "number_diagnoses     16.0  \n",
       "target                1.0  "
      ]
     },
     "execution_count": 15,
     "metadata": {},
     "output_type": "execute_result"
    }
   ],
   "source": [
    "# Check summary statistics for numeric variables\n",
    "result[cols_numeric[2:]].describe().T"
   ]
  },
  {
   "cell_type": "markdown",
   "metadata": {},
   "source": [
    "Observation: Upon examining histograms of numeric variables, it does not appear that any one of them has a dominant value (i.e., a value that appears in 95% or more cases)"
   ]
  },
  {
   "cell_type": "markdown",
   "metadata": {},
   "source": [
    "# Reduce cardinality of diab_1, diab_2, diab_3"
   ]
  },
  {
   "cell_type": "code",
   "execution_count": 16,
   "metadata": {},
   "outputs": [
    {
     "data": {
      "text/html": [
       "<div>\n",
       "<style scoped>\n",
       "    .dataframe tbody tr th:only-of-type {\n",
       "        vertical-align: middle;\n",
       "    }\n",
       "\n",
       "    .dataframe tbody tr th {\n",
       "        vertical-align: top;\n",
       "    }\n",
       "\n",
       "    .dataframe thead th {\n",
       "        text-align: right;\n",
       "    }\n",
       "</style>\n",
       "<table border=\"1\" class=\"dataframe\">\n",
       "  <thead>\n",
       "    <tr style=\"text-align: right;\">\n",
       "      <th></th>\n",
       "      <th>count</th>\n",
       "      <th>unique</th>\n",
       "      <th>top</th>\n",
       "      <th>freq</th>\n",
       "    </tr>\n",
       "  </thead>\n",
       "  <tbody>\n",
       "    <tr>\n",
       "      <th>race</th>\n",
       "      <td>69990</td>\n",
       "      <td>6</td>\n",
       "      <td>Caucasian</td>\n",
       "      <td>52352</td>\n",
       "    </tr>\n",
       "    <tr>\n",
       "      <th>gender</th>\n",
       "      <td>69990</td>\n",
       "      <td>3</td>\n",
       "      <td>Female</td>\n",
       "      <td>37238</td>\n",
       "    </tr>\n",
       "    <tr>\n",
       "      <th>age</th>\n",
       "      <td>69990</td>\n",
       "      <td>10</td>\n",
       "      <td>[70-80)</td>\n",
       "      <td>17726</td>\n",
       "    </tr>\n",
       "    <tr>\n",
       "      <th>admission_type_id</th>\n",
       "      <td>69990</td>\n",
       "      <td>8</td>\n",
       "      <td>1</td>\n",
       "      <td>35537</td>\n",
       "    </tr>\n",
       "    <tr>\n",
       "      <th>discharge_disposition_id</th>\n",
       "      <td>69990</td>\n",
       "      <td>21</td>\n",
       "      <td>1</td>\n",
       "      <td>43934</td>\n",
       "    </tr>\n",
       "    <tr>\n",
       "      <th>admission_source_id</th>\n",
       "      <td>69990</td>\n",
       "      <td>17</td>\n",
       "      <td>7</td>\n",
       "      <td>37236</td>\n",
       "    </tr>\n",
       "    <tr>\n",
       "      <th>payer_code</th>\n",
       "      <td>69990</td>\n",
       "      <td>18</td>\n",
       "      <td>?</td>\n",
       "      <td>29581</td>\n",
       "    </tr>\n",
       "    <tr>\n",
       "      <th>medical_specialty</th>\n",
       "      <td>69990</td>\n",
       "      <td>72</td>\n",
       "      <td>?</td>\n",
       "      <td>32800</td>\n",
       "    </tr>\n",
       "    <tr>\n",
       "      <th>diag_1</th>\n",
       "      <td>69990</td>\n",
       "      <td>692</td>\n",
       "      <td>414</td>\n",
       "      <td>5120</td>\n",
       "    </tr>\n",
       "    <tr>\n",
       "      <th>diag_2</th>\n",
       "      <td>69990</td>\n",
       "      <td>722</td>\n",
       "      <td>250</td>\n",
       "      <td>4878</td>\n",
       "    </tr>\n",
       "    <tr>\n",
       "      <th>diag_3</th>\n",
       "      <td>69990</td>\n",
       "      <td>755</td>\n",
       "      <td>250</td>\n",
       "      <td>8852</td>\n",
       "    </tr>\n",
       "    <tr>\n",
       "      <th>A1Cresult</th>\n",
       "      <td>69990</td>\n",
       "      <td>4</td>\n",
       "      <td>None</td>\n",
       "      <td>57331</td>\n",
       "    </tr>\n",
       "    <tr>\n",
       "      <th>metformin</th>\n",
       "      <td>69990</td>\n",
       "      <td>4</td>\n",
       "      <td>No</td>\n",
       "      <td>55281</td>\n",
       "    </tr>\n",
       "    <tr>\n",
       "      <th>glimepiride</th>\n",
       "      <td>69990</td>\n",
       "      <td>4</td>\n",
       "      <td>No</td>\n",
       "      <td>66305</td>\n",
       "    </tr>\n",
       "    <tr>\n",
       "      <th>glipizide</th>\n",
       "      <td>69990</td>\n",
       "      <td>4</td>\n",
       "      <td>No</td>\n",
       "      <td>61105</td>\n",
       "    </tr>\n",
       "    <tr>\n",
       "      <th>glyburide</th>\n",
       "      <td>69990</td>\n",
       "      <td>4</td>\n",
       "      <td>No</td>\n",
       "      <td>62362</td>\n",
       "    </tr>\n",
       "    <tr>\n",
       "      <th>pioglitazone</th>\n",
       "      <td>69990</td>\n",
       "      <td>4</td>\n",
       "      <td>No</td>\n",
       "      <td>64768</td>\n",
       "    </tr>\n",
       "    <tr>\n",
       "      <th>rosiglitazone</th>\n",
       "      <td>69990</td>\n",
       "      <td>4</td>\n",
       "      <td>No</td>\n",
       "      <td>65493</td>\n",
       "    </tr>\n",
       "    <tr>\n",
       "      <th>insulin</th>\n",
       "      <td>69990</td>\n",
       "      <td>4</td>\n",
       "      <td>No</td>\n",
       "      <td>33891</td>\n",
       "    </tr>\n",
       "    <tr>\n",
       "      <th>change</th>\n",
       "      <td>69990</td>\n",
       "      <td>2</td>\n",
       "      <td>No</td>\n",
       "      <td>38354</td>\n",
       "    </tr>\n",
       "    <tr>\n",
       "      <th>diabetesMed</th>\n",
       "      <td>69990</td>\n",
       "      <td>2</td>\n",
       "      <td>Yes</td>\n",
       "      <td>53324</td>\n",
       "    </tr>\n",
       "    <tr>\n",
       "      <th>readmitted</th>\n",
       "      <td>69990</td>\n",
       "      <td>3</td>\n",
       "      <td>NO</td>\n",
       "      <td>44714</td>\n",
       "    </tr>\n",
       "  </tbody>\n",
       "</table>\n",
       "</div>"
      ],
      "text/plain": [
       "                          count unique        top   freq\n",
       "race                      69990      6  Caucasian  52352\n",
       "gender                    69990      3     Female  37238\n",
       "age                       69990     10    [70-80)  17726\n",
       "admission_type_id         69990      8          1  35537\n",
       "discharge_disposition_id  69990     21          1  43934\n",
       "admission_source_id       69990     17          7  37236\n",
       "payer_code                69990     18          ?  29581\n",
       "medical_specialty         69990     72          ?  32800\n",
       "diag_1                    69990    692        414   5120\n",
       "diag_2                    69990    722        250   4878\n",
       "diag_3                    69990    755        250   8852\n",
       "A1Cresult                 69990      4       None  57331\n",
       "metformin                 69990      4         No  55281\n",
       "glimepiride               69990      4         No  66305\n",
       "glipizide                 69990      4         No  61105\n",
       "glyburide                 69990      4         No  62362\n",
       "pioglitazone              69990      4         No  64768\n",
       "rosiglitazone             69990      4         No  65493\n",
       "insulin                   69990      4         No  33891\n",
       "change                    69990      2         No  38354\n",
       "diabetesMed               69990      2        Yes  53324\n",
       "readmitted                69990      3         NO  44714"
      ]
     },
     "execution_count": 16,
     "metadata": {},
     "output_type": "execute_result"
    }
   ],
   "source": [
    "result[cols_categorical].describe().T"
   ]
  },
  {
   "cell_type": "markdown",
   "metadata": {},
   "source": [
    "Note that 'diag_1', 'diag_2', 'diag_3' have ~700 categories each. To reduce the cardinality of these variables, I use the provided ICD9 parent code mapping.  "
   ]
  },
  {
   "cell_type": "code",
   "execution_count": 17,
   "metadata": {},
   "outputs": [],
   "source": [
    "# Load the abbreviated code mapping\n",
    "codes = pd.read_csv(directory + 'cms_hcc_icd9_abbrev.csv', header = 0)\n"
   ]
  },
  {
   "cell_type": "code",
   "execution_count": 18,
   "metadata": {},
   "outputs": [
    {
     "data": {
      "text/html": [
       "<div>\n",
       "<style scoped>\n",
       "    .dataframe tbody tr th:only-of-type {\n",
       "        vertical-align: middle;\n",
       "    }\n",
       "\n",
       "    .dataframe tbody tr th {\n",
       "        vertical-align: top;\n",
       "    }\n",
       "\n",
       "    .dataframe thead th {\n",
       "        text-align: right;\n",
       "    }\n",
       "</style>\n",
       "<table border=\"1\" class=\"dataframe\">\n",
       "  <thead>\n",
       "    <tr style=\"text-align: right;\">\n",
       "      <th></th>\n",
       "      <th>icd9_abbrev</th>\n",
       "      <th>condition</th>\n",
       "      <th>n_code</th>\n",
       "      <th>max_n_code</th>\n",
       "    </tr>\n",
       "  </thead>\n",
       "  <tbody>\n",
       "    <tr>\n",
       "      <th>0</th>\n",
       "      <td>003</td>\n",
       "      <td>Bone/Joint/Muscle Infections/Necrosis</td>\n",
       "      <td>2</td>\n",
       "      <td>2</td>\n",
       "    </tr>\n",
       "    <tr>\n",
       "      <th>1</th>\n",
       "      <td>006</td>\n",
       "      <td>Pneumococcal Pneumonia, Empyema, Lung Abscess</td>\n",
       "      <td>1</td>\n",
       "      <td>1</td>\n",
       "    </tr>\n",
       "    <tr>\n",
       "      <th>2</th>\n",
       "      <td>007</td>\n",
       "      <td>Opportunistic Infections</td>\n",
       "      <td>1</td>\n",
       "      <td>1</td>\n",
       "    </tr>\n",
       "    <tr>\n",
       "      <th>3</th>\n",
       "      <td>020</td>\n",
       "      <td>Pneumococcal Pneumonia, Empyema, Lung Abscess</td>\n",
       "      <td>3</td>\n",
       "      <td>3</td>\n",
       "    </tr>\n",
       "    <tr>\n",
       "      <th>4</th>\n",
       "      <td>021</td>\n",
       "      <td>Pneumococcal Pneumonia, Empyema, Lung Abscess</td>\n",
       "      <td>1</td>\n",
       "      <td>1</td>\n",
       "    </tr>\n",
       "  </tbody>\n",
       "</table>\n",
       "</div>"
      ],
      "text/plain": [
       "  icd9_abbrev                                      condition  n_code  \\\n",
       "0         003          Bone/Joint/Muscle Infections/Necrosis       2   \n",
       "1         006  Pneumococcal Pneumonia, Empyema, Lung Abscess       1   \n",
       "2         007                       Opportunistic Infections       1   \n",
       "3         020  Pneumococcal Pneumonia, Empyema, Lung Abscess       3   \n",
       "4         021  Pneumococcal Pneumonia, Empyema, Lung Abscess       1   \n",
       "\n",
       "   max_n_code  \n",
       "0           2  \n",
       "1           1  \n",
       "2           1  \n",
       "3           3  \n",
       "4           1  "
      ]
     },
     "execution_count": 18,
     "metadata": {},
     "output_type": "execute_result"
    }
   ],
   "source": [
    "codes.head()"
   ]
  },
  {
   "cell_type": "code",
   "execution_count": 19,
   "metadata": {},
   "outputs": [
    {
     "data": {
      "text/html": [
       "<div>\n",
       "<style scoped>\n",
       "    .dataframe tbody tr th:only-of-type {\n",
       "        vertical-align: middle;\n",
       "    }\n",
       "\n",
       "    .dataframe tbody tr th {\n",
       "        vertical-align: top;\n",
       "    }\n",
       "\n",
       "    .dataframe thead th {\n",
       "        text-align: right;\n",
       "    }\n",
       "</style>\n",
       "<table border=\"1\" class=\"dataframe\">\n",
       "  <thead>\n",
       "    <tr style=\"text-align: right;\">\n",
       "      <th>col_0</th>\n",
       "      <th>count</th>\n",
       "    </tr>\n",
       "    <tr>\n",
       "      <th>diag_1</th>\n",
       "      <th></th>\n",
       "    </tr>\n",
       "  </thead>\n",
       "  <tbody>\n",
       "    <tr>\n",
       "      <th>10</th>\n",
       "      <td>1</td>\n",
       "    </tr>\n",
       "    <tr>\n",
       "      <th>11</th>\n",
       "      <td>9</td>\n",
       "    </tr>\n",
       "    <tr>\n",
       "      <th>110</th>\n",
       "      <td>2</td>\n",
       "    </tr>\n",
       "  </tbody>\n",
       "</table>\n",
       "</div>"
      ],
      "text/plain": [
       "col_0   count\n",
       "diag_1       \n",
       "10          1\n",
       "11          9\n",
       "110         2"
      ]
     },
     "execution_count": 19,
     "metadata": {},
     "output_type": "execute_result"
    }
   ],
   "source": [
    "# Check how diag_1 codes look like\n",
    "pd.crosstab(index=result.diag_1, columns='count')[:3]"
   ]
  },
  {
   "cell_type": "markdown",
   "metadata": {},
   "source": [
    "1) Note that icd9_abbrev codes have leading zeros, while diag_1 has none. So I strip leading zeros in the codes file."
   ]
  },
  {
   "cell_type": "code",
   "execution_count": 20,
   "metadata": {},
   "outputs": [],
   "source": [
    "codes.icd9_abbrev= codes.icd9_abbrev.str.lstrip('0')"
   ]
  },
  {
   "cell_type": "code",
   "execution_count": 21,
   "metadata": {},
   "outputs": [
    {
     "data": {
      "text/html": [
       "<div>\n",
       "<style scoped>\n",
       "    .dataframe tbody tr th:only-of-type {\n",
       "        vertical-align: middle;\n",
       "    }\n",
       "\n",
       "    .dataframe tbody tr th {\n",
       "        vertical-align: top;\n",
       "    }\n",
       "\n",
       "    .dataframe thead th {\n",
       "        text-align: right;\n",
       "    }\n",
       "</style>\n",
       "<table border=\"1\" class=\"dataframe\">\n",
       "  <thead>\n",
       "    <tr style=\"text-align: right;\">\n",
       "      <th></th>\n",
       "      <th>icd9_abbrev</th>\n",
       "      <th>condition</th>\n",
       "      <th>n_code</th>\n",
       "      <th>max_n_code</th>\n",
       "    </tr>\n",
       "  </thead>\n",
       "  <tbody>\n",
       "    <tr>\n",
       "      <th>0</th>\n",
       "      <td>3</td>\n",
       "      <td>Bone/Joint/Muscle Infections/Necrosis</td>\n",
       "      <td>2</td>\n",
       "      <td>2</td>\n",
       "    </tr>\n",
       "    <tr>\n",
       "      <th>1</th>\n",
       "      <td>6</td>\n",
       "      <td>Pneumococcal Pneumonia, Empyema, Lung Abscess</td>\n",
       "      <td>1</td>\n",
       "      <td>1</td>\n",
       "    </tr>\n",
       "    <tr>\n",
       "      <th>2</th>\n",
       "      <td>7</td>\n",
       "      <td>Opportunistic Infections</td>\n",
       "      <td>1</td>\n",
       "      <td>1</td>\n",
       "    </tr>\n",
       "    <tr>\n",
       "      <th>3</th>\n",
       "      <td>20</td>\n",
       "      <td>Pneumococcal Pneumonia, Empyema, Lung Abscess</td>\n",
       "      <td>3</td>\n",
       "      <td>3</td>\n",
       "    </tr>\n",
       "    <tr>\n",
       "      <th>4</th>\n",
       "      <td>21</td>\n",
       "      <td>Pneumococcal Pneumonia, Empyema, Lung Abscess</td>\n",
       "      <td>1</td>\n",
       "      <td>1</td>\n",
       "    </tr>\n",
       "  </tbody>\n",
       "</table>\n",
       "</div>"
      ],
      "text/plain": [
       "  icd9_abbrev                                      condition  n_code  \\\n",
       "0           3          Bone/Joint/Muscle Infections/Necrosis       2   \n",
       "1           6  Pneumococcal Pneumonia, Empyema, Lung Abscess       1   \n",
       "2           7                       Opportunistic Infections       1   \n",
       "3          20  Pneumococcal Pneumonia, Empyema, Lung Abscess       3   \n",
       "4          21  Pneumococcal Pneumonia, Empyema, Lung Abscess       1   \n",
       "\n",
       "   max_n_code  \n",
       "0           2  \n",
       "1           1  \n",
       "2           1  \n",
       "3           3  \n",
       "4           1  "
      ]
     },
     "execution_count": 21,
     "metadata": {},
     "output_type": "execute_result"
    }
   ],
   "source": [
    "codes.head()"
   ]
  },
  {
   "cell_type": "markdown",
   "metadata": {},
   "source": [
    "2) Next, I check if there is any difference between n_code and max_n_code. It turns out there is no difference, so I keep only n_code."
   ]
  },
  {
   "cell_type": "code",
   "execution_count": 22,
   "metadata": {},
   "outputs": [
    {
     "data": {
      "text/plain": [
       "0"
      ]
     },
     "execution_count": 22,
     "metadata": {},
     "output_type": "execute_result"
    }
   ],
   "source": [
    "# Shows that n_code and max_n_code are identical\n",
    "codes[codes.n_code != codes.max_n_code].shape[0]"
   ]
  },
  {
   "cell_type": "code",
   "execution_count": 23,
   "metadata": {},
   "outputs": [],
   "source": [
    "# Drop the redundant max_n_code\n",
    "codes = codes.drop('max_n_code', axis=1)"
   ]
  },
  {
   "cell_type": "code",
   "execution_count": 24,
   "metadata": {},
   "outputs": [
    {
     "data": {
      "text/html": [
       "<div>\n",
       "<style scoped>\n",
       "    .dataframe tbody tr th:only-of-type {\n",
       "        vertical-align: middle;\n",
       "    }\n",
       "\n",
       "    .dataframe tbody tr th {\n",
       "        vertical-align: top;\n",
       "    }\n",
       "\n",
       "    .dataframe thead th {\n",
       "        text-align: right;\n",
       "    }\n",
       "</style>\n",
       "<table border=\"1\" class=\"dataframe\">\n",
       "  <thead>\n",
       "    <tr style=\"text-align: right;\">\n",
       "      <th></th>\n",
       "      <th>icd9_abbrev</th>\n",
       "      <th>condition</th>\n",
       "      <th>n_code</th>\n",
       "    </tr>\n",
       "  </thead>\n",
       "  <tbody>\n",
       "    <tr>\n",
       "      <th>0</th>\n",
       "      <td>3</td>\n",
       "      <td>Bone/Joint/Muscle Infections/Necrosis</td>\n",
       "      <td>2</td>\n",
       "    </tr>\n",
       "    <tr>\n",
       "      <th>1</th>\n",
       "      <td>6</td>\n",
       "      <td>Pneumococcal Pneumonia, Empyema, Lung Abscess</td>\n",
       "      <td>1</td>\n",
       "    </tr>\n",
       "    <tr>\n",
       "      <th>2</th>\n",
       "      <td>7</td>\n",
       "      <td>Opportunistic Infections</td>\n",
       "      <td>1</td>\n",
       "    </tr>\n",
       "    <tr>\n",
       "      <th>3</th>\n",
       "      <td>20</td>\n",
       "      <td>Pneumococcal Pneumonia, Empyema, Lung Abscess</td>\n",
       "      <td>3</td>\n",
       "    </tr>\n",
       "    <tr>\n",
       "      <th>4</th>\n",
       "      <td>21</td>\n",
       "      <td>Pneumococcal Pneumonia, Empyema, Lung Abscess</td>\n",
       "      <td>1</td>\n",
       "    </tr>\n",
       "  </tbody>\n",
       "</table>\n",
       "</div>"
      ],
      "text/plain": [
       "  icd9_abbrev                                      condition  n_code\n",
       "0           3          Bone/Joint/Muscle Infections/Necrosis       2\n",
       "1           6  Pneumococcal Pneumonia, Empyema, Lung Abscess       1\n",
       "2           7                       Opportunistic Infections       1\n",
       "3          20  Pneumococcal Pneumonia, Empyema, Lung Abscess       3\n",
       "4          21  Pneumococcal Pneumonia, Empyema, Lung Abscess       1"
      ]
     },
     "execution_count": 24,
     "metadata": {},
     "output_type": "execute_result"
    }
   ],
   "source": [
    "codes.head()"
   ]
  },
  {
   "cell_type": "markdown",
   "metadata": {},
   "source": [
    "3) Next, I check if the icd9_abbrev codes are unique."
   ]
  },
  {
   "cell_type": "code",
   "execution_count": 25,
   "metadata": {},
   "outputs": [
    {
     "data": {
      "text/plain": [
       "31"
      ]
     },
     "execution_count": 25,
     "metadata": {},
     "output_type": "execute_result"
    }
   ],
   "source": [
    "# There are duplicates of icd9_abbrev since the output of the code below is not zero\n",
    "codes[codes.duplicated(['icd9_abbrev'], keep=False)].shape[0]\n"
   ]
  },
  {
   "cell_type": "code",
   "execution_count": 26,
   "metadata": {},
   "outputs": [
    {
     "data": {
      "text/plain": [
       "31"
      ]
     },
     "execution_count": 26,
     "metadata": {},
     "output_type": "execute_result"
    }
   ],
   "source": [
    "# Moreover, we get the same number of duplicates if we dedupe codes by both icd9_abbrev and n_code\n",
    "codes[codes.duplicated(['icd9_abbrev', 'n_code'], keep=False)].shape[0]\n"
   ]
  },
  {
   "cell_type": "code",
   "execution_count": 27,
   "metadata": {},
   "outputs": [
    {
     "data": {
      "text/plain": [
       "0"
      ]
     },
     "execution_count": 27,
     "metadata": {},
     "output_type": "execute_result"
    }
   ],
   "source": [
    "# But no duplicates exist if we also incorporate the condition variable, so it seems that the 'icd9_abbrev'-'n_code' pair can be\n",
    "# associated with more than 1 'condition'\n",
    "codes[codes.duplicated(['icd9_abbrev', 'condition', 'n_code'], keep=False)].shape[0]"
   ]
  },
  {
   "cell_type": "code",
   "execution_count": 28,
   "metadata": {},
   "outputs": [
    {
     "data": {
      "text/plain": [
       "306"
      ]
     },
     "execution_count": 28,
     "metadata": {},
     "output_type": "execute_result"
    }
   ],
   "source": [
    "# Check the number of unique icd9 codes\n",
    "codes.icd9_abbrev.nunique()"
   ]
  },
  {
   "cell_type": "code",
   "execution_count": 29,
   "metadata": {},
   "outputs": [
    {
     "data": {
      "text/plain": [
       "37"
      ]
     },
     "execution_count": 29,
     "metadata": {},
     "output_type": "execute_result"
    }
   ],
   "source": [
    "# Check the number of unique n_code's\n",
    "codes.n_code.nunique()"
   ]
  },
  {
   "cell_type": "markdown",
   "metadata": {},
   "source": [
    "4) Because I want a many-to-one match when I merge 'result' with 'codes', I drop the 'condition' variable from 'codes' and dedupe 'codes' based on 'icd9_abbrev' and 'n_code'. This makes 'icd9_abbrev' unique in 'codes', and I will use 'n_code' in model buidling. Note that n_code has 37 categories vs. 306 categories in the abbreviated ICD9 codes."
   ]
  },
  {
   "cell_type": "code",
   "execution_count": 30,
   "metadata": {},
   "outputs": [],
   "source": [
    "codes_merge = codes.drop(['condition'], axis=1)"
   ]
  },
  {
   "cell_type": "code",
   "execution_count": 31,
   "metadata": {},
   "outputs": [],
   "source": [
    "codes_merge = codes_merge.drop_duplicates(['icd9_abbrev', 'n_code'])"
   ]
  },
  {
   "cell_type": "code",
   "execution_count": 32,
   "metadata": {},
   "outputs": [
    {
     "data": {
      "text/plain": [
       "(306, 2)"
      ]
     },
     "execution_count": 32,
     "metadata": {},
     "output_type": "execute_result"
    }
   ],
   "source": [
    "codes_merge.shape"
   ]
  },
  {
   "cell_type": "markdown",
   "metadata": {},
   "source": [
    "5) Before proceeding with the merger of 'result' and 'codes_merge', I make sure that 'diag_1', 'diag_2, and 'diag_3' have only 'parent codes', i.e., exclude anything after the \".\" for the small number of codes that have it.\n"
   ]
  },
  {
   "cell_type": "code",
   "execution_count": 33,
   "metadata": {},
   "outputs": [],
   "source": [
    "# In diag_ variables, exclude anything after \".\"\n",
    "for i in ['diag_1', 'diag_2', 'diag_3']:\n",
    "    parent_code = result[i].str.split('.').str[0]\n",
    "    result = result.join(parent_code, lsuffix='', rsuffix='_parent')\n",
    "    result = result.drop([i], axis=1)\n"
   ]
  },
  {
   "cell_type": "markdown",
   "metadata": {},
   "source": [
    "6) Now ready to do the merge:"
   ]
  },
  {
   "cell_type": "code",
   "execution_count": 34,
   "metadata": {},
   "outputs": [],
   "source": [
    "# Now replace diag_1, diag_2, diag_3 with n_code from 'codes'\n",
    "# diag_1\n",
    "result = pd.merge(result, codes_merge, how='left', left_on='diag_1_parent', right_on='icd9_abbrev', indicator =True)\n"
   ]
  },
  {
   "cell_type": "code",
   "execution_count": 35,
   "metadata": {},
   "outputs": [
    {
     "data": {
      "text/html": [
       "<div>\n",
       "<style scoped>\n",
       "    .dataframe tbody tr th:only-of-type {\n",
       "        vertical-align: middle;\n",
       "    }\n",
       "\n",
       "    .dataframe tbody tr th {\n",
       "        vertical-align: top;\n",
       "    }\n",
       "\n",
       "    .dataframe thead th {\n",
       "        text-align: right;\n",
       "    }\n",
       "</style>\n",
       "<table border=\"1\" class=\"dataframe\">\n",
       "  <thead>\n",
       "    <tr style=\"text-align: right;\">\n",
       "      <th></th>\n",
       "      <th>diag_1_parent</th>\n",
       "      <th>icd9_abbrev</th>\n",
       "      <th>n_code</th>\n",
       "      <th>_merge</th>\n",
       "    </tr>\n",
       "  </thead>\n",
       "  <tbody>\n",
       "    <tr>\n",
       "      <th>0</th>\n",
       "      <td>401</td>\n",
       "      <td>NaN</td>\n",
       "      <td>NaN</td>\n",
       "      <td>left_only</td>\n",
       "    </tr>\n",
       "    <tr>\n",
       "      <th>1</th>\n",
       "      <td>722</td>\n",
       "      <td>NaN</td>\n",
       "      <td>NaN</td>\n",
       "      <td>left_only</td>\n",
       "    </tr>\n",
       "    <tr>\n",
       "      <th>2</th>\n",
       "      <td>820</td>\n",
       "      <td>820</td>\n",
       "      <td>18.0</td>\n",
       "      <td>both</td>\n",
       "    </tr>\n",
       "    <tr>\n",
       "      <th>3</th>\n",
       "      <td>274</td>\n",
       "      <td>NaN</td>\n",
       "      <td>NaN</td>\n",
       "      <td>left_only</td>\n",
       "    </tr>\n",
       "    <tr>\n",
       "      <th>4</th>\n",
       "      <td>590</td>\n",
       "      <td>NaN</td>\n",
       "      <td>NaN</td>\n",
       "      <td>left_only</td>\n",
       "    </tr>\n",
       "  </tbody>\n",
       "</table>\n",
       "</div>"
      ],
      "text/plain": [
       "  diag_1_parent icd9_abbrev  n_code     _merge\n",
       "0           401         NaN     NaN  left_only\n",
       "1           722         NaN     NaN  left_only\n",
       "2           820         820    18.0       both\n",
       "3           274         NaN     NaN  left_only\n",
       "4           590         NaN     NaN  left_only"
      ]
     },
     "execution_count": 35,
     "metadata": {},
     "output_type": "execute_result"
    }
   ],
   "source": [
    "result[['diag_1_parent', 'icd9_abbrev', 'n_code', '_merge']].head()"
   ]
  },
  {
   "cell_type": "code",
   "execution_count": 36,
   "metadata": {},
   "outputs": [
    {
     "data": {
      "text/html": [
       "<div>\n",
       "<style scoped>\n",
       "    .dataframe tbody tr th:only-of-type {\n",
       "        vertical-align: middle;\n",
       "    }\n",
       "\n",
       "    .dataframe tbody tr th {\n",
       "        vertical-align: top;\n",
       "    }\n",
       "\n",
       "    .dataframe thead th {\n",
       "        text-align: right;\n",
       "    }\n",
       "</style>\n",
       "<table border=\"1\" class=\"dataframe\">\n",
       "  <thead>\n",
       "    <tr style=\"text-align: right;\">\n",
       "      <th>col_0</th>\n",
       "      <th>count</th>\n",
       "    </tr>\n",
       "    <tr>\n",
       "      <th>_merge</th>\n",
       "      <th></th>\n",
       "    </tr>\n",
       "  </thead>\n",
       "  <tbody>\n",
       "    <tr>\n",
       "      <th>left_only</th>\n",
       "      <td>0.440106</td>\n",
       "    </tr>\n",
       "    <tr>\n",
       "      <th>both</th>\n",
       "      <td>0.559894</td>\n",
       "    </tr>\n",
       "  </tbody>\n",
       "</table>\n",
       "</div>"
      ],
      "text/plain": [
       "col_0         count\n",
       "_merge             \n",
       "left_only  0.440106\n",
       "both       0.559894"
      ]
     },
     "execution_count": 36,
     "metadata": {},
     "output_type": "execute_result"
    }
   ],
   "source": [
    "m1 = pd.crosstab(index = result['_merge'], columns = 'count')\n",
    "m1/m1.sum()"
   ]
  },
  {
   "cell_type": "markdown",
   "metadata": {},
   "source": [
    "Observation: Some diag_1 codes are not listed among the icd9_abbrev codes. "
   ]
  },
  {
   "cell_type": "code",
   "execution_count": 37,
   "metadata": {},
   "outputs": [],
   "source": [
    "# Drop variables that will not be used in modeling + rename n_code variable\n",
    "result = result.drop(['icd9_abbrev', '_merge'], axis=1)\n",
    "result = result.rename(columns= {'n_code': 'n_code_1'})"
   ]
  },
  {
   "cell_type": "code",
   "execution_count": 38,
   "metadata": {},
   "outputs": [
    {
     "name": "stdout",
     "output_type": "stream",
     "text": [
      "Tabulation for diag_2 merge col_0         count\n",
      "_merge             \n",
      "both       0.644978\n",
      "left_only  0.355022\n"
     ]
    }
   ],
   "source": [
    "# Repeat the above steps for diag_2 and diag3\n",
    "\n",
    "# diag_2\n",
    "result = pd.merge(result, codes_merge, how='left', left_on='diag_2_parent', right_on='icd9_abbrev', indicator =True)\n",
    "m2 = pd.crosstab(index = result['_merge'], columns = 'count')\n",
    "print('Tabulation for diag_2 merge', m2/m2.sum())\n",
    "result = result.drop(['icd9_abbrev', '_merge'], axis=1) # drop vars not used in modeling\n",
    "result = result.rename(columns= {'n_code': 'n_code_2'}) # rename n_code\n"
   ]
  },
  {
   "cell_type": "code",
   "execution_count": 39,
   "metadata": {},
   "outputs": [
    {
     "name": "stdout",
     "output_type": "stream",
     "text": [
      "Tabulation for diag_3 merge col_0         count\n",
      "_merge             \n",
      "both       0.587984\n",
      "left_only  0.412016\n"
     ]
    }
   ],
   "source": [
    "# diag_3\n",
    "result = pd.merge(result, codes_merge, how='left', left_on='diag_3_parent', right_on='icd9_abbrev', indicator =True)\n",
    "m3 = pd.crosstab(index = result['_merge'], columns = 'count')\n",
    "print('Tabulation for diag_3 merge', m3/m3.sum())\n",
    "result = result.drop(['icd9_abbrev', '_merge'], axis=1) # drop vars not used in modeling\n",
    "result = result.rename(columns= {'n_code': 'n_code_3'}) # rename n_code\n"
   ]
  },
  {
   "cell_type": "code",
   "execution_count": 40,
   "metadata": {},
   "outputs": [],
   "source": [
    "# Finally drop 'diag_1_parent','diag_2_parent', 'diag_3_parent' variables that have high cardinality\n",
    "result = result.drop(['diag_1_parent','diag_2_parent', 'diag_3_parent'], axis=1)\n"
   ]
  },
  {
   "cell_type": "code",
   "execution_count": 41,
   "metadata": {},
   "outputs": [
    {
     "data": {
      "text/plain": [
       "Index(['encounter_id', 'patient_nbr', 'race', 'gender', 'age',\n",
       "       'admission_type_id', 'discharge_disposition_id', 'admission_source_id',\n",
       "       'time_in_hospital', 'payer_code', 'medical_specialty',\n",
       "       'num_lab_procedures', 'num_procedures', 'num_medications',\n",
       "       'number_outpatient', 'number_emergency', 'number_inpatient',\n",
       "       'number_diagnoses', 'A1Cresult', 'metformin', 'glimepiride',\n",
       "       'glipizide', 'glyburide', 'pioglitazone', 'rosiglitazone', 'insulin',\n",
       "       'change', 'diabetesMed', 'readmitted', 'target', 'n_code_1', 'n_code_2',\n",
       "       'n_code_3'],\n",
       "      dtype='object')"
      ]
     },
     "execution_count": 41,
     "metadata": {},
     "output_type": "execute_result"
    }
   ],
   "source": [
    "result.columns"
   ]
  },
  {
   "cell_type": "code",
   "execution_count": 42,
   "metadata": {},
   "outputs": [
    {
     "name": "stdout",
     "output_type": "stream",
     "text": [
      "n_code_1      True      30803      0.44\n",
      "n_code_2      True      24848      0.36\n",
      "n_code_3      True      28837      0.41\n"
     ]
    }
   ],
   "source": [
    "# Check how many missing values the new n_code_ variables have:\n",
    "for i in ['n_code_1', 'n_code_2', 'n_code_3']:\n",
    "    print(i, \"    \" ,result[i].isnull().values.any(),  \"    \", result[i].isnull().values.sum(),  \"    \", \n",
    "          format(result[i].isnull().values.sum()/result.shape[0], '.2f'))\n",
    "    "
   ]
  },
  {
   "cell_type": "markdown",
   "metadata": {},
   "source": [
    "7) The new 'n\\_code_' variables have a relatively high number of missing values. I take a note of this and keep all 69,990 observations."
   ]
  },
  {
   "cell_type": "code",
   "execution_count": 149,
   "metadata": {},
   "outputs": [
    {
     "data": {
      "text/plain": [
       "numpy.float64"
      ]
     },
     "execution_count": 149,
     "metadata": {},
     "output_type": "execute_result"
    }
   ],
   "source": [
    "type(result.n_code_1[0])"
   ]
  },
  {
   "cell_type": "markdown",
   "metadata": {},
   "source": [
    "8) Next, note that the 'n\\_code_' variables show up as numeric right now. So I need to convert them to categorical."
   ]
  },
  {
   "cell_type": "code",
   "execution_count": 43,
   "metadata": {},
   "outputs": [],
   "source": [
    "# Convert n_code_ vars to categorical vars\n",
    "for i in ['n_code_1', 'n_code_2', 'n_code_3']:\n",
    "    result[i] = result[i].apply(str)\n",
    "    "
   ]
  },
  {
   "cell_type": "code",
   "execution_count": 44,
   "metadata": {},
   "outputs": [
    {
     "name": "stdout",
     "output_type": "stream",
     "text": [
      "Index(['encounter_id', 'patient_nbr', 'time_in_hospital', 'num_lab_procedures',\n",
      "       'num_procedures', 'num_medications', 'number_outpatient',\n",
      "       'number_emergency', 'number_inpatient', 'number_diagnoses', 'target'],\n",
      "      dtype='object')\n",
      "Index(['race', 'gender', 'age', 'admission_type_id',\n",
      "       'discharge_disposition_id', 'admission_source_id', 'payer_code',\n",
      "       'medical_specialty', 'A1Cresult', 'metformin', 'glimepiride',\n",
      "       'glipizide', 'glyburide', 'pioglitazone', 'rosiglitazone', 'insulin',\n",
      "       'change', 'diabetesMed', 'readmitted', 'n_code_1', 'n_code_2',\n",
      "       'n_code_3'],\n",
      "      dtype='object')\n"
     ]
    }
   ],
   "source": [
    "# Update cols_numeric and cols_categorical\n",
    "cols_numeric = result.describe(include = [np.number]).columns\n",
    "print(cols_numeric)\n",
    "\n",
    "cols_categorical = result.describe(exclude = [np.number]).columns\n",
    "print(cols_categorical)\n"
   ]
  },
  {
   "cell_type": "markdown",
   "metadata": {},
   "source": [
    "# Steady/Up/Down categories"
   ]
  },
  {
   "cell_type": "markdown",
   "metadata": {},
   "source": [
    "Finally, I implement the following suggestion: \"There are several variables indicating which medications the patient is on. Possible values for these fields are No/Steady/Up/Down.  For simplicity, you can treat these as binary where 0=No and 1=Steady/Up/Down.\"\n",
    "\n",
    "These variables are: 'metformin', 'glimepiride', 'glipizide', 'glyburide', 'pioglitazone', 'rosiglitazone',  and 'insulin'."
   ]
  },
  {
   "cell_type": "code",
   "execution_count": 45,
   "metadata": {},
   "outputs": [],
   "source": [
    "for i in ['metformin', 'glimepiride', 'glipizide', 'glyburide', 'pioglitazone', 'rosiglitazone', 'insulin']:\n",
    "    result[i] = np.where((result[i] == 'No'), 0,1) "
   ]
  },
  {
   "cell_type": "code",
   "execution_count": 168,
   "metadata": {
    "collapsed": true
   },
   "outputs": [],
   "source": [
    "# Save the 'result' dataset and continue working in the next ipython notebook, where I experiment with decision tree models\n",
    "# (since these do not require pre-processing such as de-meaning and standardization of numeric variables, or\n",
    "# creation of dummy variables). \n",
    "\n",
    "# The pickle will be saved in the same folder where the IPython Notebook is located\n",
    "import pickle\n",
    "with open('result_book2.pickle', 'wb') as handle:\n",
    "    pickle.dump(result, handle, protocol=pickle.HIGHEST_PROTOCOL)\n",
    "    \n",
    "# to open, use this command:\n",
    "#result = pd.read_pickle(\"result_book2.pickle\" )"
   ]
  },
  {
   "cell_type": "markdown",
   "metadata": {},
   "source": [
    "Continue to IPython Notebook #3 of 3"
   ]
  }
 ],
 "metadata": {
  "anaconda-cloud": {},
  "kernelspec": {
   "display_name": "Python [conda root]",
   "language": "python",
   "name": "conda-root-py"
  },
  "language_info": {
   "codemirror_mode": {
    "name": "ipython",
    "version": 3
   },
   "file_extension": ".py",
   "mimetype": "text/x-python",
   "name": "python",
   "nbconvert_exporter": "python",
   "pygments_lexer": "ipython3",
   "version": "3.5.6"
  }
 },
 "nbformat": 4,
 "nbformat_minor": 2
}
